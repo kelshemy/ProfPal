{
 "cells": [
  {
   "cell_type": "code",
   "execution_count": 8,
   "metadata": {},
   "outputs": [],
   "source": [
    "from dotenv import load_dotenv\n",
    "load_dotenv()\n",
    "import os \n",
    "from openai import OpenAI\n",
    "from pinecone import Pinecone, ServerlessSpec\n",
    "\n"
   ]
  },
  {
   "cell_type": "code",
   "execution_count": 6,
   "metadata": {},
   "outputs": [],
   "source": [
    "pc = Pinecone(api_key = os.getenv(\"PINECONE_API_KEY\"))\n",
    "pc.create_index(\n",
    "    name = \"rag\", dimension = 1536, metric = \"cosine\", spec = ServerlessSpec(cloud = \"aws\", region = \"us-east-1\")\n",
    ")"
   ]
  },
  {
   "cell_type": "code",
   "execution_count": 7,
   "metadata": {},
   "outputs": [
    {
     "data": {
      "text/plain": [
       "[{'professor': 'Dr. Sarah Johnson',\n",
       "  'subject': 'Biology',\n",
       "  'stars': 4,\n",
       "  'review': \"Dr. Johnson's lectures are engaging and informative. She's always willing to help during office hours.\"},\n",
       " {'professor': 'Prof. Michael Chang',\n",
       "  'subject': 'Computer Science',\n",
       "  'stars': 5,\n",
       "  'review': \"Excellent teacher! Prof. Chang explains complex concepts in a way that's easy to understand.\"},\n",
       " {'professor': 'Dr. Emily Rodriguez',\n",
       "  'subject': 'Psychology',\n",
       "  'stars': 3,\n",
       "  'review': 'Dr. Rodriguez knows her subject well, but her assignments can be unclear at times.'},\n",
       " {'professor': 'Prof. David Lee',\n",
       "  'subject': 'Mathematics',\n",
       "  'stars': 4,\n",
       "  'review': \"Prof. Lee's passion for math is contagious. His problem-solving techniques are very helpful.\"},\n",
       " {'professor': 'Dr. Lisa Patel',\n",
       "  'subject': 'Chemistry',\n",
       "  'stars': 5,\n",
       "  'review': \"Dr. Patel's lab sessions are well-organized and her explanations are crystal clear.\"},\n",
       " {'professor': 'Prof. Robert Brown',\n",
       "  'subject': 'History',\n",
       "  'stars': 2,\n",
       "  'review': \"Prof. Brown's lectures can be dry and monotonous. More interactive sessions would help.\"},\n",
       " {'professor': 'Dr. Jennifer White',\n",
       "  'subject': 'English Literature',\n",
       "  'stars': 4,\n",
       "  'review': \"Dr. White's analysis of classic texts is insightful. She encourages critical thinking.\"},\n",
       " {'professor': 'Prof. Thomas Green',\n",
       "  'subject': 'Physics',\n",
       "  'stars': 3,\n",
       "  'review': 'Prof. Green is knowledgeable, but his pace can be too fast for some students to follow.'},\n",
       " {'professor': 'Dr. Maria Garcia',\n",
       "  'subject': 'Sociology',\n",
       "  'stars': 5,\n",
       "  'review': \"Dr. Garcia's class discussions are thought-provoking and relevant to current issues.\"},\n",
       " {'professor': 'Prof. James Wilson',\n",
       "  'subject': 'Economics',\n",
       "  'stars': 4,\n",
       "  'review': 'Prof. Wilson uses real-world examples to illustrate economic principles effectively.'},\n",
       " {'professor': 'Dr. Emma Thompson',\n",
       "  'subject': 'Art History',\n",
       "  'stars': 5,\n",
       "  'review': \"Dr. Thompson's passion for art is inspiring. Her virtual museum tours are a highlight.\"},\n",
       " {'professor': 'Prof. Alexander Ivanov',\n",
       "  'subject': 'Political Science',\n",
       "  'stars': 3,\n",
       "  'review': \"Prof. Ivanov's lectures are informative, but he could improve on encouraging class participation.\"},\n",
       " {'professor': 'Dr. Olivia Chen',\n",
       "  'subject': 'Neuroscience',\n",
       "  'stars': 4,\n",
       "  'review': \"Dr. Chen's research-oriented approach gives great insight into current developments in the field.\"},\n",
       " {'professor': 'Prof. Samuel Adams',\n",
       "  'subject': 'Philosophy',\n",
       "  'stars': 5,\n",
       "  'review': \"Prof. Adams' Socratic method of teaching really helps in developing critical thinking skills.\"},\n",
       " {'professor': 'Dr. Rachel Goldstein',\n",
       "  'subject': 'Genetics',\n",
       "  'stars': 4,\n",
       "  'review': 'Dr. Goldstein makes complex genetic concepts understandable. Her office hours are very helpful.'},\n",
       " {'professor': 'Prof. Daniel Martinez',\n",
       "  'subject': 'Environmental Science',\n",
       "  'stars': 3,\n",
       "  'review': \"Prof. Martinez's field trips are great, but his lectures could use more structure.\"},\n",
       " {'professor': 'Dr. Sophia Lee',\n",
       "  'subject': 'Linguistics',\n",
       "  'stars': 5,\n",
       "  'review': \"Dr. Lee's interactive language exercises make learning linguistics both fun and effective.\"},\n",
       " {'professor': 'Prof. William Taylor',\n",
       "  'subject': 'Business Administration',\n",
       "  'stars': 4,\n",
       "  'review': \"Prof. Taylor's real-world business experience adds valuable context to theoretical concepts.\"},\n",
       " {'professor': 'Dr. Aisha Patel',\n",
       "  'subject': 'Anthropology',\n",
       "  'stars': 5,\n",
       "  'review': \"Dr. Patel's diverse case studies provide a comprehensive view of human cultures.\"},\n",
       " {'professor': 'Prof. George Anderson',\n",
       "  'subject': 'Statistics',\n",
       "  'stars': 2,\n",
       "  'review': \"Prof. Anderson's explanations can be confusing. More practice problems would be helpful.\"}]"
      ]
     },
     "execution_count": 7,
     "metadata": {},
     "output_type": "execute_result"
    }
   ],
   "source": [
    "import json \n",
    "data = json.load(open(\"reviews.json\"))\n",
    "data['reviews']"
   ]
  },
  {
   "cell_type": "code",
   "execution_count": 9,
   "metadata": {},
   "outputs": [],
   "source": [
    "processed_data = []\n",
    "client = OpenAI()\n",
    "\n",
    "for review in data['reviews']:\n",
    "    response = client.embeddings.create(\n",
    "        input = review['review'],\n",
    "        model = \"text-embedding-3-small\",\n",
    "    )\n",
    "    embedding = response.data[0].embedding\n",
    "    processed_data.append({\n",
    "        \"values\": embedding, \n",
    "        \"id\": review[\"professor\"], \n",
    "        \"metadata\": {\n",
    "            \"review\": review[\"review\"],\n",
    "            \"subject\": review[\"subject\"],\n",
    "            \"stars\": review[\"stars\"]\n",
    "        }\n",
    "    })"
   ]
  },
  {
   "cell_type": "code",
   "execution_count": 11,
   "metadata": {},
   "outputs": [
    {
     "data": {
      "text/plain": [
       "{'upserted_count': 20}"
      ]
     },
     "execution_count": 11,
     "metadata": {},
     "output_type": "execute_result"
    }
   ],
   "source": [
    "index = pc.Index('rag')\n",
    "index.upsert(\n",
    "    vectors = processed_data,\n",
    "    namespace = \"ns1\"\n",
    ")"
   ]
  },
  {
   "cell_type": "code",
   "execution_count": 12,
   "metadata": {},
   "outputs": [
    {
     "data": {
      "text/plain": [
       "{'dimension': 1536,\n",
       " 'index_fullness': 0.0,\n",
       " 'namespaces': {'ns1': {'vector_count': 20}},\n",
       " 'total_vector_count': 20}"
      ]
     },
     "execution_count": 12,
     "metadata": {},
     "output_type": "execute_result"
    }
   ],
   "source": [
    "index.describe_index_stats()"
   ]
  }
 ],
 "metadata": {
  "kernelspec": {
   "display_name": "rag",
   "language": "python",
   "name": "python3"
  },
  "language_info": {
   "codemirror_mode": {
    "name": "ipython",
    "version": 3
   },
   "file_extension": ".py",
   "mimetype": "text/x-python",
   "name": "python",
   "nbconvert_exporter": "python",
   "pygments_lexer": "ipython3",
   "version": "3.10.14"
  }
 },
 "nbformat": 4,
 "nbformat_minor": 2
}
